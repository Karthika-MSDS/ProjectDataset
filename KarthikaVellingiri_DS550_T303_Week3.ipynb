{
 "cells": [
  {
   "cell_type": "markdown",
   "id": "0731c777-11aa-462c-a851-24c432167a9d",
   "metadata": {},
   "source": [
    "<center>\n",
    "\n",
    "## DSC550-T303 Data Mining\n",
    "## Week 3: Text/Sentiment Analysis, Categorical Data, and Dates/Times\n",
    "## Exercise:  Sentiment Analysis and Preprocessing Text\n",
    "### Karthika Vellingiri\n",
    "### 13 Dec 2024\n",
    "\n",
    "</center>"
   ]
  },
  {
   "cell_type": "markdown",
   "id": "aec85ab6-b2a9-42e1-b770-2e977f745696",
   "metadata": {},
   "source": [
    "### **<span style=\"color:blue\">Download the labeled training dataset from this link: Bag of Words Meets Bags of Popcorn.</span>** \n",
    "\n",
    "#### **<span style=\"color:blue\">Part 1: Using the TextBlob Sentiment Analyzer </span>**\n",
    "\n",
    "**1. Import the movie review data as a data frame and ensure that the data is loaded properly.**\n",
    "\n",
    "**2. How many of each positive and negative reviews are there?**\n",
    "\n",
    "**3. Use TextBlob to classify each movie review as positive or negative. Assume that a polarity score greater than or equal to zero is a positive sentiment and less than 0 is a negative sentiment.**\n",
    "\n",
    "**4. Check the accuracy of this model. Is this model better than random guessing?**\n",
    "\n",
    "**5. For up to five points extra credit, use another prebuilt text sentiment analyzer, e.g., VADER, and repeat steps (3) and (4).**\n"
   ]
  },
  {
   "cell_type": "code",
   "execution_count": 22,
   "id": "b21ee5c5-5613-4e40-8162-6f4999ecc3b0",
   "metadata": {},
   "outputs": [
    {
     "data": {
      "text/html": [
       "<h3>Data Loaded and Cleaned:</h3>"
      ],
      "text/plain": [
       "<IPython.core.display.HTML object>"
      ]
     },
     "metadata": {},
     "output_type": "display_data"
    },
    {
     "data": {
      "text/html": [
       "<div>\n",
       "<style scoped>\n",
       "    .dataframe tbody tr th:only-of-type {\n",
       "        vertical-align: middle;\n",
       "    }\n",
       "\n",
       "    .dataframe tbody tr th {\n",
       "        vertical-align: top;\n",
       "    }\n",
       "\n",
       "    .dataframe thead th {\n",
       "        text-align: right;\n",
       "    }\n",
       "</style>\n",
       "<table border=\"1\" class=\"dataframe\">\n",
       "  <thead>\n",
       "    <tr style=\"text-align: right;\">\n",
       "      <th></th>\n",
       "      <th>id</th>\n",
       "      <th>sentiment</th>\n",
       "      <th>review</th>\n",
       "    </tr>\n",
       "  </thead>\n",
       "  <tbody>\n",
       "    <tr>\n",
       "      <th>0</th>\n",
       "      <td>5814_8</td>\n",
       "      <td>1</td>\n",
       "      <td>With all this stuff going down at the moment with MJ i've started listening to his music, watching the odd documentary here and there, watched The...</td>\n",
       "    </tr>\n",
       "    <tr>\n",
       "      <th>1</th>\n",
       "      <td>2381_9</td>\n",
       "      <td>1</td>\n",
       "      <td>\\The Classic War of the Worlds\\\" by Timothy Hines is a very entertaining film that obviously goes to great effort and lengths to faithfully recrea...</td>\n",
       "    </tr>\n",
       "    <tr>\n",
       "      <th>2</th>\n",
       "      <td>7759_3</td>\n",
       "      <td>0</td>\n",
       "      <td>The film starts with a manager (Nicholas Bell) giving welcome investors (Robert Carradine) to Primal Park . A secret project mutating a primal ani...</td>\n",
       "    </tr>\n",
       "    <tr>\n",
       "      <th>3</th>\n",
       "      <td>3630_4</td>\n",
       "      <td>0</td>\n",
       "      <td>It must be assumed that those who praised this film (\\the greatest filmed opera ever,\\\" didn't I read somewhere?) either don't care for opera, don...</td>\n",
       "    </tr>\n",
       "    <tr>\n",
       "      <th>4</th>\n",
       "      <td>9495_8</td>\n",
       "      <td>1</td>\n",
       "      <td>Superbly trashy and wondrously unpretentious 80's exploitation, hooray! The pre-credits opening sequences somewhat give the false impression that ...</td>\n",
       "    </tr>\n",
       "  </tbody>\n",
       "</table>\n",
       "</div>"
      ],
      "text/plain": [
       "       id  sentiment  \\\n",
       "0  5814_8          1   \n",
       "1  2381_9          1   \n",
       "2  7759_3          0   \n",
       "3  3630_4          0   \n",
       "4  9495_8          1   \n",
       "\n",
       "                                                                                                                                                  review  \n",
       "0  With all this stuff going down at the moment with MJ i've started listening to his music, watching the odd documentary here and there, watched The...  \n",
       "1  \\The Classic War of the Worlds\\\" by Timothy Hines is a very entertaining film that obviously goes to great effort and lengths to faithfully recrea...  \n",
       "2  The film starts with a manager (Nicholas Bell) giving welcome investors (Robert Carradine) to Primal Park . A secret project mutating a primal ani...  \n",
       "3  It must be assumed that those who praised this film (\\the greatest filmed opera ever,\\\" didn't I read somewhere?) either don't care for opera, don...  \n",
       "4  Superbly trashy and wondrously unpretentious 80's exploitation, hooray! The pre-credits opening sequences somewhat give the false impression that ...  "
      ]
     },
     "metadata": {},
     "output_type": "display_data"
    },
    {
     "data": {
      "text/html": [
       "<h4>Missing Values After Cleaning:</h4>"
      ],
      "text/plain": [
       "<IPython.core.display.HTML object>"
      ]
     },
     "metadata": {},
     "output_type": "display_data"
    },
    {
     "data": {
      "text/html": [
       "<pre>id: 0\n",
       "sentiment: 0\n",
       "review: 0</pre>"
      ],
      "text/plain": [
       "<IPython.core.display.HTML object>"
      ]
     },
     "metadata": {},
     "output_type": "display_data"
    },
    {
     "data": {
      "text/html": [
       "<h4>Count of Positive and Negative Reviews:</h4>"
      ],
      "text/plain": [
       "<IPython.core.display.HTML object>"
      ]
     },
     "metadata": {},
     "output_type": "display_data"
    },
    {
     "data": {
      "text/html": [
       "<pre>sentiment\n",
       "Positive    12500\n",
       "Negative    12500</pre>"
      ],
      "text/plain": [
       "<IPython.core.display.HTML object>"
      ]
     },
     "metadata": {},
     "output_type": "display_data"
    },
    {
     "data": {
      "text/html": [
       "<h4>Comparison of Actual and Predicted Sentiments (First 10 Rows):</h4>"
      ],
      "text/plain": [
       "<IPython.core.display.HTML object>"
      ]
     },
     "metadata": {},
     "output_type": "display_data"
    },
    {
     "data": {
      "text/html": [
       "<div>\n",
       "<style scoped>\n",
       "    .dataframe tbody tr th:only-of-type {\n",
       "        vertical-align: middle;\n",
       "    }\n",
       "\n",
       "    .dataframe tbody tr th {\n",
       "        vertical-align: top;\n",
       "    }\n",
       "\n",
       "    .dataframe thead th {\n",
       "        text-align: right;\n",
       "    }\n",
       "</style>\n",
       "<table border=\"1\" class=\"dataframe\">\n",
       "  <thead>\n",
       "    <tr style=\"text-align: right;\">\n",
       "      <th></th>\n",
       "      <th>review</th>\n",
       "      <th>sentiment</th>\n",
       "      <th>TextBlob_Sentiment</th>\n",
       "      <th>VADER_Sentiment</th>\n",
       "    </tr>\n",
       "  </thead>\n",
       "  <tbody>\n",
       "    <tr>\n",
       "      <th>0</th>\n",
       "      <td>With all this stuff going down at the moment with MJ i've started listening to his music, watching the odd documentary here and there, watched The...</td>\n",
       "      <td>1</td>\n",
       "      <td>Positive</td>\n",
       "      <td>Negative</td>\n",
       "    </tr>\n",
       "    <tr>\n",
       "      <th>1</th>\n",
       "      <td>\\The Classic War of the Worlds\\\" by Timothy Hines is a very entertaining film that obviously goes to great effort and lengths to faithfully recrea...</td>\n",
       "      <td>1</td>\n",
       "      <td>Positive</td>\n",
       "      <td>Positive</td>\n",
       "    </tr>\n",
       "    <tr>\n",
       "      <th>2</th>\n",
       "      <td>The film starts with a manager (Nicholas Bell) giving welcome investors (Robert Carradine) to Primal Park . A secret project mutating a primal ani...</td>\n",
       "      <td>0</td>\n",
       "      <td>Negative</td>\n",
       "      <td>Negative</td>\n",
       "    </tr>\n",
       "    <tr>\n",
       "      <th>3</th>\n",
       "      <td>It must be assumed that those who praised this film (\\the greatest filmed opera ever,\\\" didn't I read somewhere?) either don't care for opera, don...</td>\n",
       "      <td>0</td>\n",
       "      <td>Positive</td>\n",
       "      <td>Negative</td>\n",
       "    </tr>\n",
       "    <tr>\n",
       "      <th>4</th>\n",
       "      <td>Superbly trashy and wondrously unpretentious 80's exploitation, hooray! The pre-credits opening sequences somewhat give the false impression that ...</td>\n",
       "      <td>1</td>\n",
       "      <td>Negative</td>\n",
       "      <td>Positive</td>\n",
       "    </tr>\n",
       "    <tr>\n",
       "      <th>5</th>\n",
       "      <td>I dont know why people think this is such a bad movie. Its got a pretty good plot, some good action, and the change of location for Harry does not...</td>\n",
       "      <td>1</td>\n",
       "      <td>Positive</td>\n",
       "      <td>Positive</td>\n",
       "    </tr>\n",
       "    <tr>\n",
       "      <th>6</th>\n",
       "      <td>This movie could have been very good, but comes up way short. Cheesy special effects and so-so acting. I could have looked past that if the story ...</td>\n",
       "      <td>0</td>\n",
       "      <td>Negative</td>\n",
       "      <td>Negative</td>\n",
       "    </tr>\n",
       "    <tr>\n",
       "      <th>7</th>\n",
       "      <td>I watched this video at a friend's house. I'm glad I did not waste money buying this one. The video cover has a scene from the 1975 movie Capricor...</td>\n",
       "      <td>0</td>\n",
       "      <td>Positive</td>\n",
       "      <td>Negative</td>\n",
       "    </tr>\n",
       "    <tr>\n",
       "      <th>8</th>\n",
       "      <td>A friend of mine bought this film for £1, and even then it was grossly overpriced. Despite featuring big names such as Adam Sandler, Billy Bob Tho...</td>\n",
       "      <td>0</td>\n",
       "      <td>Positive</td>\n",
       "      <td>Positive</td>\n",
       "    </tr>\n",
       "    <tr>\n",
       "      <th>9</th>\n",
       "      <td>&lt;br /&gt;&lt;br /&gt;This movie is full of references. Like \\Mad Max II\\\", \\\"The wild one\\\" and many others. The ladybug´s face it´s a clear reference (or ...</td>\n",
       "      <td>1</td>\n",
       "      <td>Positive</td>\n",
       "      <td>Positive</td>\n",
       "    </tr>\n",
       "  </tbody>\n",
       "</table>\n",
       "</div>"
      ],
      "text/plain": [
       "                                                                                                                                                  review  \\\n",
       "0  With all this stuff going down at the moment with MJ i've started listening to his music, watching the odd documentary here and there, watched The...   \n",
       "1  \\The Classic War of the Worlds\\\" by Timothy Hines is a very entertaining film that obviously goes to great effort and lengths to faithfully recrea...   \n",
       "2  The film starts with a manager (Nicholas Bell) giving welcome investors (Robert Carradine) to Primal Park . A secret project mutating a primal ani...   \n",
       "3  It must be assumed that those who praised this film (\\the greatest filmed opera ever,\\\" didn't I read somewhere?) either don't care for opera, don...   \n",
       "4  Superbly trashy and wondrously unpretentious 80's exploitation, hooray! The pre-credits opening sequences somewhat give the false impression that ...   \n",
       "5  I dont know why people think this is such a bad movie. Its got a pretty good plot, some good action, and the change of location for Harry does not...   \n",
       "6  This movie could have been very good, but comes up way short. Cheesy special effects and so-so acting. I could have looked past that if the story ...   \n",
       "7  I watched this video at a friend's house. I'm glad I did not waste money buying this one. The video cover has a scene from the 1975 movie Capricor...   \n",
       "8  A friend of mine bought this film for £1, and even then it was grossly overpriced. Despite featuring big names such as Adam Sandler, Billy Bob Tho...   \n",
       "9  <br /><br />This movie is full of references. Like \\Mad Max II\\\", \\\"The wild one\\\" and many others. The ladybug´s face it´s a clear reference (or ...   \n",
       "\n",
       "   sentiment TextBlob_Sentiment VADER_Sentiment  \n",
       "0          1           Positive        Negative  \n",
       "1          1           Positive        Positive  \n",
       "2          0           Negative        Negative  \n",
       "3          0           Positive        Negative  \n",
       "4          1           Negative        Positive  \n",
       "5          1           Positive        Positive  \n",
       "6          0           Negative        Negative  \n",
       "7          0           Positive        Negative  \n",
       "8          0           Positive        Positive  \n",
       "9          1           Positive        Positive  "
      ]
     },
     "metadata": {},
     "output_type": "display_data"
    },
    {
     "data": {
      "text/html": [
       "<b><br>TextBlob Sentiment Analysis Accuracy:</b> 0.68524"
      ],
      "text/plain": [
       "<IPython.core.display.HTML object>"
      ]
     },
     "metadata": {},
     "output_type": "display_data"
    },
    {
     "data": {
      "text/html": [
       "<b><br>VADER Sentiment Analysis Accuracy:</b> 0.69356"
      ],
      "text/plain": [
       "<IPython.core.display.HTML object>"
      ]
     },
     "metadata": {},
     "output_type": "display_data"
    },
    {
     "data": {
      "text/html": [
       "<b><br>Random Guessing Accuracy:</b> 0.5"
      ],
      "text/plain": [
       "<IPython.core.display.HTML object>"
      ]
     },
     "metadata": {},
     "output_type": "display_data"
    },
    {
     "data": {
      "text/html": [
       "<br><span style='color:green;'>TextBlob performs better than random guessing!</span>"
      ],
      "text/plain": [
       "<IPython.core.display.HTML object>"
      ]
     },
     "metadata": {},
     "output_type": "display_data"
    },
    {
     "data": {
      "text/html": [
       "<br><span style='color:green;'>VADER performs better than random guessing!</span>"
      ],
      "text/plain": [
       "<IPython.core.display.HTML object>"
      ]
     },
     "metadata": {},
     "output_type": "display_data"
    }
   ],
   "source": [
    "import pandas as pd\n",
    "from textblob import TextBlob\n",
    "from sklearn.metrics import accuracy_score\n",
    "from nltk.sentiment.vader import SentimentIntensityAnalyzer\n",
    "import os\n",
    "import nltk\n",
    "from IPython.display import display, HTML\n",
    "\n",
    "# Load dataset from the current working directory\n",
    "cwd = os.getcwd()  # Get the current working directory\n",
    "file_path = os.path.join(cwd, \"labeledTrainData.tsv\")  # Define the file path\n",
    "\n",
    "# Load the dataset into pands dataframe\n",
    "# data = pd.read_csv(file_path, delimiter='\\t', nrows=5)\n",
    "data = pd.read_csv(file_path, delimiter='\\t')\n",
    "\n",
    "# Download the VADER lexicon without any output\n",
    "nltk.download('vader_lexicon', quiet=True)\n",
    "\n",
    "# Set up display options to allow full display of the review column\n",
    "pd.set_option('display.max_colwidth', 150)\n",
    "\n",
    "# Handle missing values: Drop rows with missing sentiment or review data\n",
    "data.dropna(subset=['review', 'sentiment'], inplace=True)\n",
    "\n",
    "# Display basic information about the dataset\n",
    "display(HTML(\"<h3>Data Loaded and Cleaned:</h3>\"))\n",
    "display(data.head())  # Display the first few rows without the index\n",
    "\n",
    "# Checking for missing values after cleaning\n",
    "display(HTML(\"<h4>Missing Values After Cleaning:</h4>\"))\n",
    "missing_values = data.isnull().sum()\n",
    "formatted_missing_values = \"\\n\".join([f\"{col}: {missing_values[col]}\" for col in missing_values.index])\n",
    "display(HTML(f\"<pre>{formatted_missing_values}</pre>\"))\n",
    "\n",
    "# Count the number of positive and negative reviews in the dataset\n",
    "sentiment_counts = data['sentiment'].value_counts()\n",
    "formatted_sentiment = f\"sentiment\\nPositive    {sentiment_counts.get(1, 0)}\\nNegative    {sentiment_counts.get(0, 0)}\"\n",
    "display(HTML(\"<h4>Count of Positive and Negative Reviews:</h4>\"))\n",
    "display(HTML(f\"<pre>{formatted_sentiment}</pre>\"))\n",
    "\n",
    "# Using TextBlob for sentiment classification with polarity score\n",
    "def classify_sentiment_textblob(review):\n",
    "    # Create a TextBlob object for the review and get the polarity score\n",
    "    blob = TextBlob(review)\n",
    "    polarity = blob.sentiment.polarity\n",
    "\n",
    "    # If the polarity score is greater than or equal to 0, it's positive, otherwise negative\n",
    "    sentiment = \"Positive\" if polarity >= 0 else \"Negative\"\n",
    "    return sentiment, polarity\n",
    "\n",
    "# Apply the classification function to each review in the 'review' column\n",
    "data[['TextBlob_Sentiment', 'Polarity_Score']] = data['review'].apply(lambda review: pd.Series(classify_sentiment_textblob(review)))\n",
    "\n",
    "# Calculate accuracy of TextBlob sentiment analysis by comparing with actual sentiment values\n",
    "textblob_accuracy = accuracy_score(data['sentiment'].map({1: 'Positive', 0: 'Negative'}), data['TextBlob_Sentiment'])\n",
    "\n",
    "# Using VADER for sentiment classification\n",
    "sid = SentimentIntensityAnalyzer()\n",
    "\n",
    "def classify_sentiment_vader(review):\n",
    "    # Get the compound sentiment score from VADER\n",
    "    score = sid.polarity_scores(review)['compound']\n",
    "    return \"Positive\" if score >= 0 else \"Negative\"\n",
    "\n",
    "# Apply VADER sentiment analysis to each review in the 'review' column\n",
    "data['VADER_Sentiment'] = data['review'].apply(classify_sentiment_vader)\n",
    "\n",
    "# Calculate accuracy of VADER sentiment analysis by comparing with actual sentiment values\n",
    "vader_accuracy = accuracy_score(data['sentiment'].map({1: 'Positive', 0: 'Negative'}), data['VADER_Sentiment'])\n",
    "\n",
    "# Checking the accuracy of random guessing by considering the class distribution\n",
    "random_guess_accuracy = max(data['sentiment'].value_counts(normalize=True))  # Max of class distribution\n",
    "\n",
    "# Display comparison of actual vs. predicted sentiments for the first 10 rows\n",
    "display(HTML(\"<h4>Comparison of Actual and Predicted Sentiments (First 10 Rows):</h4>\"))\n",
    "display(data[['review', 'sentiment', 'TextBlob_Sentiment', 'VADER_Sentiment']].head(10))  # Show a subset of data for readability\n",
    "\n",
    "# Display accuracy of both models and random guessing\n",
    "display(HTML(f\"<b><br>TextBlob Sentiment Analysis Accuracy:</b> {textblob_accuracy}\"))\n",
    "display(HTML(f\"<b><br>VADER Sentiment Analysis Accuracy:</b> {vader_accuracy}\"))\n",
    "display(HTML(f\"<b><br>Random Guessing Accuracy:</b> {random_guess_accuracy}\"))\n",
    "\n",
    "\n",
    "# Final Summary: Is TextBlob better than random guessing?\n",
    "if textblob_accuracy > random_guess_accuracy:\n",
    "    display(HTML(\"<br><span style='color:green;'>TextBlob performs better than random guessing!</span>\"))\n",
    "else:\n",
    "    display(HTML(\"<br><span style='color:red;'>TextBlob does not perform better than random guessing.</span>\"))\n",
    "\n",
    "# Final Summary: Is VADER better than random guessing?\n",
    "if vader_accuracy > random_guess_accuracy:\n",
    "    display(HTML(\"<br><span style='color:green;'>VADER performs better than random guessing!</span>\"))\n",
    "else:\n",
    "    display(HTML(\"<br><span style='color:red;'>VADER does not perform better than random guessing.</span>\"))\n",
    "\n"
   ]
  },
  {
   "cell_type": "markdown",
   "id": "65306e4d-b9f1-44c3-bd05-b64393d85ed5",
   "metadata": {},
   "source": [
    "#### **<span style=\"color:blue\">  Part 2: If you want to run your own model to classify text, it needs to be in proper form to do so. The following steps will outline a procedure to do this on the movie reviews text.** </span>\n",
    "\n",
    "1. **Convert all text to lowercase letters.**\n",
    "2. **Remove punctuation and special characters from the text.**\n",
    "3. **Remove stop words.**\n",
    "4. **Apply NLTK’s PorterStemmer.**\n",
    "5. **Create a bag-of-words matrix from your stemmed text** (output from (4)), where each row is a word-count vector for a single movie review (see sections 5.3 & 6.8 in the Machine Learning with Python Cookbook). Display the dimensions of your bag-of-words matrix. The number of rows in this matrix should be the same as the number of rows in your original data frame.\n",
    "6. **Create a term frequency-inverse document frequency (tf-idf) matrix from your stemmed text**, for your movie reviews (see section 6.9 in the Machine Learning with Python Cookbook). Display the dimensions of your tf-idf matrix. These dimensions should be the same as your bag-of-words matrix."
   ]
  },
  {
   "cell_type": "code",
   "execution_count": 24,
   "id": "b9677e4f-90c1-4cea-ba3c-ffcdf14c3a28",
   "metadata": {},
   "outputs": [
    {
     "name": "stdout",
     "output_type": "stream",
     "text": [
      "\n",
      "Bag-of-Words matrix dimensions: (25000, 92379)\n",
      "\n",
      "TF-IDF matrix dimensions: (25000, 92379)\n",
      "\n",
      "First 5 terms in the BoW matrix: ['00' '000' '0000000000001' '000001' '00000110']\n",
      "\n",
      "First 5 terms in the TF-IDF matrix: ['00' '000' '0000000000001' '000001' '00000110']\n"
     ]
    }
   ],
   "source": [
    "import pandas as pd\n",
    "import string\n",
    "import nltk\n",
    "from nltk.corpus import stopwords\n",
    "from nltk.stem import PorterStemmer\n",
    "from sklearn.feature_extraction.text import CountVectorizer, TfidfVectorizer\n",
    "import warnings\n",
    "\n",
    "warnings.filterwarnings('ignore', category=UserWarning, module='nltk')\n",
    "\n",
    "# Step 1: Load the data\n",
    "# Assuming the dataset is loaded already into the DataFrame 'data'\n",
    "# data = pd.read_csv('path_to_your_file.csv')  # Load the data from a file\n",
    "\n",
    "# Step 2: Convert all text to lowercase\n",
    "data['cleaned_review'] = data['review'].apply(lambda x: x.lower())\n",
    "\n",
    "# Step 3: Remove punctuation and special characters\n",
    "def remove_punctuation(text):\n",
    "    return ''.join([char for char in text if char not in string.punctuation])\n",
    "\n",
    "data['cleaned_review'] = data['cleaned_review'].apply(remove_punctuation)\n",
    "\n",
    "# Step 4: Remove stop words\n",
    "nltk.download('stopwords', quiet=True)  # Download stopwords without any output\n",
    "stop_words = set(stopwords.words('english'))\n",
    "\n",
    "def remove_stopwords(text):\n",
    "    return ' '.join([word for word in text.split() if word not in stop_words])\n",
    "\n",
    "data['cleaned_review'] = data['cleaned_review'].apply(remove_stopwords)\n",
    "\n",
    "# Step 5: Apply NLTK’s PorterStemmer\n",
    "stemmer = PorterStemmer()\n",
    "\n",
    "def apply_stemming(text):\n",
    "    return ' '.join([stemmer.stem(word) for word in text.split()])\n",
    "\n",
    "data['cleaned_review'] = data['cleaned_review'].apply(apply_stemming)\n",
    "\n",
    "# Step 6: Create a Bag-of-Words (BoW) matrix\n",
    "vectorizer = CountVectorizer()\n",
    "bow_matrix = vectorizer.fit_transform(data['cleaned_review'])\n",
    "\n",
    "# Display the dimensions of the BoW matrix\n",
    "print(\"\\nBag-of-Words matrix dimensions:\", bow_matrix.shape)\n",
    "\n",
    "# Step 7: Create a Term Frequency-Inverse Document Frequency (tf-idf) matrix\n",
    "tfidf_vectorizer = TfidfVectorizer()\n",
    "tfidf_matrix = tfidf_vectorizer.fit_transform(data['cleaned_review'])\n",
    "\n",
    "# Display the dimensions of the tf-idf matrix\n",
    "print(\"\\nTF-IDF matrix dimensions:\", tfidf_matrix.shape)\n",
    "\n",
    "# first 5 terms of each matrix\n",
    "print(\"\\nFirst 5 terms in the BoW matrix:\", vectorizer.get_feature_names_out()[:5])\n",
    "print(\"\\nFirst 5 terms in the TF-IDF matrix:\", tfidf_vectorizer.get_feature_names_out()[:5])\n"
   ]
  },
  {
   "cell_type": "code",
   "execution_count": null,
   "id": "b5f7288e-5c2e-411a-b5d0-1aea9db7b666",
   "metadata": {},
   "outputs": [],
   "source": []
  }
 ],
 "metadata": {
  "kernelspec": {
   "display_name": "Python 3 (ipykernel)",
   "language": "python",
   "name": "python3"
  },
  "language_info": {
   "codemirror_mode": {
    "name": "ipython",
    "version": 3
   },
   "file_extension": ".py",
   "mimetype": "text/x-python",
   "name": "python",
   "nbconvert_exporter": "python",
   "pygments_lexer": "ipython3",
   "version": "3.11.7"
  }
 },
 "nbformat": 4,
 "nbformat_minor": 5
}
